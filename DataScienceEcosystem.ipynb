{
 "cells": [
  {
   "cell_type": "markdown",
   "id": "689d5c3b-cd4b-4391-a536-2ec50d9546af",
   "metadata": {},
   "source": [
    "<center>\n",
    "    <img src=\"https://cf-courses-data.s3.us.cloud-object-storage.appdomain.cloud/IBMDeveloperSkillsNetwork-DS0105EN-SkillsNetwork/labs/Module2/images/SN_web_lightmode.png\" width=\"300\" alt=\"cognitiveclass.ai logo\">\n",
    "</center>"
   ]
  },
  {
   "cell_type": "markdown",
   "id": "43165b35-369c-4373-80e7-9b8434ca7a05",
   "metadata": {
    "tags": []
   },
   "source": [
    "# Data Science Tools and Ecosystem"
   ]
  },
  {
   "cell_type": "markdown",
   "id": "adc4bda1-a58d-4bab-a07c-e8d62572fd4f",
   "metadata": {},
   "source": [
    "## Author\n",
    "Navya Shilpa Josyula"
   ]
  },
  {
   "cell_type": "markdown",
   "id": "6ee40460-9da1-48b9-b13e-5285836166e4",
   "metadata": {},
   "source": [
    "**Introduction**\n",
    "\n",
    "In this notebook, Data Science Tools and Ecosystem are summarized."
   ]
  },
  {
   "cell_type": "markdown",
   "id": "894fa5cd-858e-404f-b23b-675fb72ae080",
   "metadata": {},
   "source": [
    "**Objectives**\n",
    "\n",
    "- To list popular languages that Data Scientists use\n",
    "- To list commonly used libraries used by Data Scientists\n",
    "- To create a table listing data science tools\n",
    "- To show few examples of evaluating arithmetic expressions such as:\n",
    "    - How to multiply and add integers\n",
    "    - How to convert minutes to hours"
   ]
  },
  {
   "cell_type": "markdown",
   "id": "6157e83f-f317-4f02-8ac6-0b5cfb66fdff",
   "metadata": {},
   "source": [
    "Some of the popular languages that Data Scientists use are:\n",
    "\n",
    "1. R\n",
    "2. Python\n",
    "3. SQL\n",
    "4. Julia\n",
    "5. Scala\n",
    "6. Java\n",
    "7. C++"
   ]
  },
  {
   "cell_type": "markdown",
   "id": "dd93e75b-26d4-4ce4-acd9-0eb496e7d82c",
   "metadata": {},
   "source": [
    "Some of the commonly used libraries used by Data Scientists include:\n",
    "\n",
    "1. Pandas\n",
    "2. NumPy\n",
    "3. SciPy\n",
    "4. Matplotlib\n",
    "5. TensorFlow\n",
    "6. PyTorch\n",
    "7. Keras\n",
    "8. Scikit-learn"
   ]
  },
  {
   "cell_type": "markdown",
   "id": "d9bef928-8eec-4962-aa67-8cf15b0da147",
   "metadata": {},
   "source": [
    "|Data Science Tools|\n",
    "--------------------\n",
    "|Jupyter|\n",
    "|Apache Zeppelin|\n",
    "|RStudio|"
   ]
  },
  {
   "cell_type": "markdown",
   "id": "22badde2-7674-41fb-852d-29efc5dfe6c0",
   "metadata": {},
   "source": [
    "### Below are a few examples of evaluating arithmetic expressions in Python"
   ]
  },
  {
   "cell_type": "code",
   "execution_count": 1,
   "id": "eb6db58c-748a-4c0d-bff1-aaa95dbb9b77",
   "metadata": {
    "tags": []
   },
   "outputs": [
    {
     "data": {
      "text/plain": [
       "17"
      ]
     },
     "execution_count": 1,
     "metadata": {},
     "output_type": "execute_result"
    }
   ],
   "source": [
    "# This a simple arithmetic expression to mutiply then add integers\n",
    "(3*4)+5"
   ]
  },
  {
   "cell_type": "code",
   "execution_count": 6,
   "id": "518810d6-e3f1-4bf3-a8a7-4858e3dbdd2d",
   "metadata": {
    "tags": []
   },
   "outputs": [
    {
     "name": "stdout",
     "output_type": "stream",
     "text": [
      "200 minutes is 3.3333333333333335 hours\n"
     ]
    }
   ],
   "source": [
    "# This will convert 200 minutes to hours by diving by 60\n",
    "minutes = 200\n",
    "minutes_in_an_hour = 60\n",
    "hours = minutes/minutes_in_an_hour\n",
    "print(\"200 minutes is\", hours, \"hours\")"
   ]
  },
  {
   "cell_type": "code",
   "execution_count": null,
   "id": "1fac8307-6a68-42d7-9f61-9fa03673bbe2",
   "metadata": {},
   "outputs": [],
   "source": []
  },
  {
   "cell_type": "code",
   "execution_count": null,
   "id": "d07f728b-7b6a-46b3-9e9a-ca433d0a2bfa",
   "metadata": {},
   "outputs": [],
   "source": []
  }
 ],
 "metadata": {
  "kernelspec": {
   "display_name": "Python",
   "language": "python",
   "name": "conda-env-python-py"
  },
  "language_info": {
   "codemirror_mode": {
    "name": "ipython",
    "version": 3
   },
   "file_extension": ".py",
   "mimetype": "text/x-python",
   "name": "python",
   "nbconvert_exporter": "python",
   "pygments_lexer": "ipython3",
   "version": "3.7.12"
  }
 },
 "nbformat": 4,
 "nbformat_minor": 5
}
